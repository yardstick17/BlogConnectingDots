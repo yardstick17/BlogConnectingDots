{
 "cells": [
  {
   "cell_type": "code",
   "execution_count": 0,
   "metadata": {
    "id": "n_5tGFaGLJvI",
    "colab_type": "code",
    "outputId": "48206524-70c7-47b4-e64a-8a1781621fcf",
    "colab": {
     "base_uri": "https://localhost:8080/",
     "height": 425.0
    }
   },
   "outputs": [
    {
     "name": "stdout",
     "output_type": "stream",
     "text": [
      "Collecting seaborn\n",
      "\u001b[?25l  Downloading https://files.pythonhosted.org/packages/a8/76/220ba4420459d9c4c9c9587c6ce607bf56c25b3d3d2de62056efe482dadc/seaborn-0.9.0-py3-none-any.whl (208kB)\n",
      "\r\u001b[K    4% |█▋                              | 10kB 15.3MB/s eta 0:00:01\r\u001b[K    9% |███▏                            | 20kB 1.8MB/s eta 0:00:01\r\u001b[K    14% |████▊                           | 30kB 2.6MB/s eta 0:00:01\r\u001b[K    19% |██████▎                         | 40kB 1.7MB/s eta 0:00:01\r\u001b[K    24% |███████▉                        | 51kB 2.1MB/s eta 0:00:01\r\u001b[K    29% |█████████▌                      | 61kB 2.5MB/s eta 0:00:01\r\u001b[K    34% |███████████                     | 71kB 2.9MB/s eta 0:00:01\r\u001b[K    39% |████████████▋                   | 81kB 3.3MB/s eta 0:00:01\r\u001b[K    44% |██████████████▏                 | 92kB 3.7MB/s eta 0:00:01\r\u001b[K    49% |███████████████▊                | 102kB 2.8MB/s eta 0:00:01\r\u001b[K    54% |█████████████████▎              | 112kB 2.8MB/s eta 0:00:01\r\u001b[K    59% |███████████████████             | 122kB 4.0MB/s eta 0:00:01\r\u001b[K    63% |████████████████████▌           | 133kB 4.0MB/s eta 0:00:01\r\u001b[K    68% |██████████████████████          | 143kB 7.5MB/s eta 0:00:01\r\u001b[K    73% |███████████████████████▋        | 153kB 7.5MB/s eta 0:00:01\r\u001b[K    78% |█████████████████████████▏      | 163kB 7.5MB/s eta 0:00:01\r\u001b[K    83% |██████████████████████████▊     | 174kB 7.5MB/s eta 0:00:01\r\u001b[K    88% |████████████████████████████▍   | 184kB 7.5MB/s eta 0:00:01\r\u001b[K    93% |██████████████████████████████  | 194kB 7.5MB/s eta 0:00:01\r\u001b[K    98% |███████████████████████████████▌| 204kB 36.7MB/s eta 0:00:01\r\u001b[K    100% |████████████████████████████████| 215kB 24.1MB/s \n",
      "\u001b[?25hRequirement already satisfied, skipping upgrade: scipy>=0.14.0 in /usr/local/lib/python3.6/dist-packages (from seaborn) (1.1.0)\n",
      "Requirement already satisfied, skipping upgrade: matplotlib>=1.4.3 in /usr/local/lib/python3.6/dist-packages (from seaborn) (3.0.3)\n",
      "Requirement already satisfied, skipping upgrade: numpy>=1.9.3 in /usr/local/lib/python3.6/dist-packages (from seaborn) (1.14.6)\n",
      "Requirement already satisfied, skipping upgrade: pandas>=0.15.2 in /usr/local/lib/python3.6/dist-packages (from seaborn) (0.22.0)\n",
      "Requirement already satisfied, skipping upgrade: pyparsing!=2.0.4,!=2.1.2,!=2.1.6,>=2.0.1 in /usr/local/lib/python3.6/dist-packages (from matplotlib>=1.4.3->seaborn) (2.3.1)\n",
      "Requirement already satisfied, skipping upgrade: cycler>=0.10 in /usr/local/lib/python3.6/dist-packages (from matplotlib>=1.4.3->seaborn) (0.10.0)\n",
      "Requirement already satisfied, skipping upgrade: python-dateutil>=2.1 in /usr/local/lib/python3.6/dist-packages (from matplotlib>=1.4.3->seaborn) (2.5.3)\n",
      "Requirement already satisfied, skipping upgrade: kiwisolver>=1.0.1 in /usr/local/lib/python3.6/dist-packages (from matplotlib>=1.4.3->seaborn) (1.0.1)\n",
      "Requirement already satisfied, skipping upgrade: pytz>=2011k in /usr/local/lib/python3.6/dist-packages (from pandas>=0.15.2->seaborn) (2018.9)\n",
      "Requirement already satisfied, skipping upgrade: six in /usr/local/lib/python3.6/dist-packages (from cycler>=0.10->matplotlib>=1.4.3->seaborn) (1.11.0)\n",
      "Requirement already satisfied, skipping upgrade: setuptools in /usr/local/lib/python3.6/dist-packages (from kiwisolver>=1.0.1->matplotlib>=1.4.3->seaborn) (40.8.0)\n",
      "Installing collected packages: seaborn\n",
      "  Found existing installation: seaborn 0.7.1\n",
      "    Uninstalling seaborn-0.7.1:\n",
      "      Successfully uninstalled seaborn-0.7.1\n",
      "Successfully installed seaborn-0.9.0\n"
     ]
    },
    {
     "data": {},
     "metadata": {
      "tags": []
     },
     "output_type": "display_data"
    }
   ],
   "source": [
    "!pip3 install --upgrade seaborn # Updates the seaborn version in the collab notebook.\n",
    "import warnings\n",
    "warnings.filterwarnings('ignore')\n"
   ]
  },
  {
   "cell_type": "markdown",
   "metadata": {
    "id": "XDHaxAIKFugn",
    "colab_type": "text"
   },
   "source": [
    "# Box plot\n",
    "Box plot, also called the box-and-whisker plot:\n",
    "- a way to show the distribution of values based on the five-number summary: minimum, first quartile, median, third quartile, and maximum."
   ]
  },
  {
   "cell_type": "markdown",
   "metadata": {
    "id": "goxjKWrcIOed",
    "colab_type": "text"
   },
   "source": [
    "![Image of Yaktocat](https://cdn-images-1.medium.com/max/1600/1*8noddM5HrclQmqUU9U_dUw.png)\n"
   ]
  },
  {
   "cell_type": "markdown",
   "metadata": {
    "id": "pKfP5x6RJAfg",
    "colab_type": "text"
   },
   "source": [
    "# Median\n",
    "The **median** is the value that separates the higher half of a data from the lower half. It’s calculated by the following steps: order your values, and find the middle one. \n",
    "For example, if we have the numbers 1, 3, 4, **7**, 8, 8, 9, the median will be 7.\n",
    "\n",
    "\n",
    "## First quartile\n",
    "The first quartile is the median of the data values to the left of the median in our ordered values.\n",
    "Ex: For the numbers 1, 3, 4, 7, 8, 8, 9, the first quartile will be ?\n",
    "\n",
    "## Third quartile\n",
    "The third quartile is the median of the data values to the right of the median in our ordered values.\n",
    "Ex: For the numbers 1, 3, 4, 7, 8, 8, 9, the Third quartile will be ?\n",
    "\n",
    "## Interquartile Range(IQR)\n",
    "The IQR approximates the amount of spread in the middle 50% of the data. The formula is the third quartile - the first quartile.\n",
    "Ex: For the numbers 1, 3, 4, 7, 8, 8, 9, the IQR will be ?\n",
    "\n",
    "\n",
    "## Outlier\n",
    "An outlier is a data value that lies outside the overall pattern. A commonly used rule says that a value is an outlier if it’s less than the first quartile - 1.5 * IQR or high than the third quartile + 1.5 * IQR.\n",
    "\n",
    "## Maximum and Minimum\n",
    "The minimum and the maximum are just the min and max values from our data. (outliers are not included)\n"
   ]
  },
  {
   "cell_type": "code",
   "execution_count": 0,
   "metadata": {
    "id": "3WoV1YgxIjNT",
    "colab_type": "code",
    "outputId": "4d24b39d-deff-42f8-8924-d952a6f2c1e0",
    "colab": {
     "base_uri": "https://localhost:8080/",
     "height": 277.0
    }
   },
   "outputs": [
    {
     "data": {
      "text/plain": [
       "<matplotlib.axes._subplots.AxesSubplot at 0x7f7ead8ea080>"
      ]
     },
     "execution_count": 3,
     "metadata": {
      "tags": []
     },
     "output_type": "execute_result"
    },
    {
     "data": {
      "image/png": "[encoded data removed]",
      "text/plain": [
       "<Figure size 432x288 with 1 Axes>"
      ]
     },
     "metadata": {
      "tags": []
     },
     "output_type": "display_data"
    }
   ],
   "source": [
    "import seaborn as sns\n",
    "sns.set(style=\"whitegrid\")\n",
    "\n",
    "tips = sns.load_dataset(\"tips\")\n",
    "sns.boxplot(y=tips[\"total_bill\"])"
   ]
  },
  {
   "cell_type": "code",
   "execution_count": 0,
   "metadata": {
    "id": "wU_As7OjLCzx",
    "colab_type": "code",
    "outputId": "ea7dbb92-16a5-4aee-cc28-7fecac8395f3",
    "colab": {
     "base_uri": "https://localhost:8080/",
     "height": 308.0
    }
   },
   "outputs": [
    {
     "data": {
      "text/plain": [
       "<matplotlib.axes._subplots.AxesSubplot at 0x7f7ead9184a8>"
      ]
     },
     "execution_count": 4,
     "metadata": {
      "tags": []
     },
     "output_type": "execute_result"
    },
    {
     "data": {
      "image/png": "[encoded data removed]",
      "text/plain": [
       "<Figure size 432x288 with 1 Axes>"
      ]
     },
     "metadata": {
      "tags": []
     },
     "output_type": "display_data"
    }
   ],
   "source": [
    "sns.boxplot(x=\"day\", y=\"total_bill\", data=tips)"
   ]
  },
  {
   "cell_type": "markdown",
   "metadata": {
    "id": "mo3d9ZQ4MpMW",
    "colab_type": "text"
   },
   "source": [
    "# Excercise\n",
    "\n",
    "- Draw a boxplot for smoker and non-smoker for the above plot.\n",
    "- Draw the boxplot for males and females for the above plot."
   ]
  },
  {
   "cell_type": "code",
   "execution_count": 0,
   "metadata": {
    "id": "IK1PWFDGLZfT",
    "colab_type": "code",
    "cellView": "both",
    "colab": {}
   },
   "outputs": [],
   "source": [
    "# @title Please try yourself\n",
    "# Hint: Remember `hue` from last class?"
   ]
  },
  {
   "cell_type": "markdown",
   "metadata": {
    "id": "r8eWUjJ1N-TT",
    "colab_type": "text"
   },
   "source": [
    "# Use swarmplot() to show the datapoints on top of the boxes:"
   ]
  },
  {
   "cell_type": "code",
   "execution_count": 0,
   "metadata": {
    "id": "Yyou54WtNWUC",
    "colab_type": "code",
    "outputId": "f40b13e1-0738-4c30-f36f-1860c30ecd9a",
    "colab": {
     "base_uri": "https://localhost:8080/",
     "height": 308.0
    }
   },
   "outputs": [
    {
     "data": {
      "text/plain": [
       "<matplotlib.axes._subplots.AxesSubplot at 0x7f7eab7a8cc0>"
      ]
     },
     "execution_count": 5,
     "metadata": {
      "tags": []
     },
     "output_type": "execute_result"
    },
    {
     "data": {
      "image/png": "[encoded data removed]",
      "text/plain": [
       "<Figure size 432x288 with 1 Axes>"
      ]
     },
     "metadata": {
      "tags": []
     },
     "output_type": "display_data"
    }
   ],
   "source": [
    "sns.boxplot(x=\"day\", y=\"total_bill\", data=tips)\n",
    "sns.swarmplot(x=\"day\", y=\"total_bill\", data=tips, color=\".25\")"
   ]
  },
  {
   "cell_type": "code",
   "execution_count": 0,
   "metadata": {
    "id": "iYscS15cAs_f",
    "colab_type": "code",
    "colab": {}
   },
   "outputs": [],
   "source": [
    ""
   ]
  },
  {
   "cell_type": "code",
   "execution_count": 0,
   "metadata": {
    "id": "W8KghTE-nJrx",
    "colab_type": "code",
    "outputId": "110b9be5-9560-4cbc-c516-4863580a7e6f",
    "colab": {
     "base_uri": "https://localhost:8080/",
     "height": 383.0
    }
   },
   "outputs": [
    {
     "data": {
      "text/plain": [
       "<seaborn.axisgrid.FacetGrid at 0x7f7ea987ef60>"
      ]
     },
     "execution_count": 29,
     "metadata": {
      "tags": []
     },
     "output_type": "execute_result"
    },
    {
     "data": {
      "image/png": "[encoded data removed]",
      "text/plain": [
       "<Figure size 360x360 with 1 Axes>"
      ]
     },
     "metadata": {
      "tags": []
     },
     "output_type": "display_data"
    }
   ],
   "source": [
    "sns.catplot(x=\"day\", y=\"total_bill\", data=tips, kind='box')"
   ]
  },
  {
   "cell_type": "code",
   "execution_count": 0,
   "metadata": {
    "id": "PgtTbViznZRc",
    "colab_type": "code",
    "colab": {}
   },
   "outputs": [],
   "source": [
    ""
   ]
  },
  {
   "cell_type": "markdown",
   "metadata": {
    "id": "3RBFlyAlTrAq",
    "colab_type": "text"
   },
   "source": [
    "# What Is Correlation and Why Is It Useful?\n",
    "\n",
    "Correlation is one of the most widely used — and widely misunderstood — statistical concepts. In this overview, we provide the definitions and intuition behind several types of correlation and illustrate how to calculate correlation using the Python pandas library.\n",
    "\n",
    "The term \"correlation\" refers to a mutual relationship or association between quantities. In almost any business, it is** useful to express one quantity in terms of its relationship with others**. For example, sales might increase when the marketing department spends more on TV advertisements, or a customer's average purchase amount on an e-commerce website might depend on a number of factors related to that customer. Often, correlation is the first step to understanding these relationships and subsequently building better business and statistical models.\n",
    "\n",
    "# Why is correlation a useful metric?\n",
    "\n",
    "- Correlation can help in predicting one quantity from another\n",
    "- Correlation can (but often does not, as we will see in some examples below) indicate the presence of a causal relationship\n",
    "- Correlation is used as a basic quantity and foundation for many other modeling techniques\n",
    "\n",
    "![Correlation](https://www.datascience.com/hubfs/blog-image-uploads/blog-introduction-to-correlation-learn-data-science-tutorials-img-1.png)\n"
   ]
  },
  {
   "cell_type": "markdown",
   "metadata": {
    "id": "G8wCSwgcT61B",
    "colab_type": "text"
   },
   "source": [
    "# Correlation in Pandas\n",
    "df.corr() "
   ]
  },
  {
   "cell_type": "code",
   "execution_count": 0,
   "metadata": {
    "id": "1as-drxfOFTc",
    "colab_type": "code",
    "outputId": "cab2496f-998e-4577-a534-058603f7623b",
    "colab": {
     "base_uri": "https://localhost:8080/",
     "height": 138.0
    }
   },
   "outputs": [
    {
     "data": {
      "text/html": [
       "<div>\n",
       "<style scoped>\n",
       "    .dataframe tbody tr th:only-of-type {\n",
       "        vertical-align: middle;\n",
       "    }\n",
       "\n",
       "    .dataframe tbody tr th {\n",
       "        vertical-align: top;\n",
       "    }\n",
       "\n",
       "    .dataframe thead th {\n",
       "        text-align: right;\n",
       "    }\n",
       "</style>\n",
       "<table border=\"1\" class=\"dataframe\">\n",
       "  <thead>\n",
       "    <tr style=\"text-align: right;\">\n",
       "      <th></th>\n",
       "      <th>total_bill</th>\n",
       "      <th>tip</th>\n",
       "      <th>size</th>\n",
       "    </tr>\n",
       "  </thead>\n",
       "  <tbody>\n",
       "    <tr>\n",
       "      <th>total_bill</th>\n",
       "      <td>1.000000</td>\n",
       "      <td>0.675734</td>\n",
       "      <td>0.598315</td>\n",
       "    </tr>\n",
       "    <tr>\n",
       "      <th>tip</th>\n",
       "      <td>0.675734</td>\n",
       "      <td>1.000000</td>\n",
       "      <td>0.489299</td>\n",
       "    </tr>\n",
       "    <tr>\n",
       "      <th>size</th>\n",
       "      <td>0.598315</td>\n",
       "      <td>0.489299</td>\n",
       "      <td>1.000000</td>\n",
       "    </tr>\n",
       "  </tbody>\n",
       "</table>\n",
       "</div>"
      ],
      "text/plain": [
       "            total_bill       tip      size\n",
       "total_bill    1.000000  0.675734  0.598315\n",
       "tip           0.675734  1.000000  0.489299\n",
       "size          0.598315  0.489299  1.000000"
      ]
     },
     "execution_count": 16,
     "metadata": {
      "tags": []
     },
     "output_type": "execute_result"
    }
   ],
   "source": [
    "tips.corr() # That was easy, right?!! \n"
   ]
  },
  {
   "cell_type": "markdown",
   "metadata": {
    "id": "NQwT7JD3i-dJ",
    "colab_type": "text"
   },
   "source": [
    "# Excercise\n",
    "##  For the tips dataset which features are most correlated ?\n",
    "- \n",
    "- \n",
    "\n"
   ]
  },
  {
   "cell_type": "markdown",
   "metadata": {
    "id": "SAepoOAIVPIs",
    "colab_type": "text"
   },
   "source": [
    "# Heat Maps\n",
    "Visualizing data with heatmaps is a great way to do exploratory data analysis, when you have a data set with multiple variables. Heatmaps can reveal general pattern in the dataset, instantly. \n",
    "- It is very useful in visualizing the concentration of values between two dimensions of a matrix."
   ]
  },
  {
   "cell_type": "code",
   "execution_count": 0,
   "metadata": {
    "id": "1uj-wSBeUrIe",
    "colab_type": "code",
    "outputId": "b081cbb6-05cf-4150-9b8b-474642bfb55a",
    "colab": {
     "base_uri": "https://localhost:8080/",
     "height": 293.0
    }
   },
   "outputs": [
    {
     "data": {
      "text/plain": [
       "<matplotlib.axes._subplots.AxesSubplot at 0x7f7eab72c470>"
      ]
     },
     "execution_count": 7,
     "metadata": {
      "tags": []
     },
     "output_type": "execute_result"
    },
    {
     "data": {
      "image/png": "[encoded data removed]",
      "text/plain": [
       "<Figure size 432x288 with 2 Axes>"
      ]
     },
     "metadata": {
      "tags": []
     },
     "output_type": "display_data"
    }
   ],
   "source": [
    "sns.heatmap(tips.corr(), linewidths=.5)"
   ]
  },
  {
   "cell_type": "markdown",
   "metadata": {
    "id": "s2FiCM1IT6CU",
    "colab_type": "text"
   },
   "source": [
    "# Titanic Correlation"
   ]
  },
  {
   "cell_type": "code",
   "execution_count": 0,
   "metadata": {
    "id": "-KoVAi-uPaAU",
    "colab_type": "code",
    "colab": {}
   },
   "outputs": [],
   "source": [
    "import pandas as pd\n",
    "titanic_df = pd.read_csv('https://raw.githubusercontent.com/nphardly/titanic/master/data/inputs/train.csv')"
   ]
  },
  {
   "cell_type": "code",
   "execution_count": 0,
   "metadata": {
    "id": "qNwOpsHHP8Ci",
    "colab_type": "code",
    "outputId": "5ce8a5f4-2ea1-4d7a-dc9b-98629497d084",
    "colab": {
     "base_uri": "https://localhost:8080/",
     "height": 348.0
    }
   },
   "outputs": [
    {
     "data": {
      "text/plain": [
       "<matplotlib.axes._subplots.AxesSubplot at 0x7f7ea9913320>"
      ]
     },
     "execution_count": 28,
     "metadata": {
      "tags": []
     },
     "output_type": "execute_result"
    },
    {
     "data": {
      "image/png": "[encoded data removed]",
      "text/plain": [
       "<Figure size 432x288 with 2 Axes>"
      ]
     },
     "metadata": {
      "tags": []
     },
     "output_type": "display_data"
    }
   ],
   "source": [
    "sns.heatmap(titanic_df.corr(), linewidths=.5, cmap=\"RdBu\")"
   ]
  },
  {
   "cell_type": "markdown",
   "metadata": {
    "id": "F1DVZyqTiW-f",
    "colab_type": "text"
   },
   "source": [
    "# Excercise \n",
    "- What are the top two most correlated features in the dataset? \n",
    "Pclass and Fare,  Sibsp and Parch\n",
    "\n",
    "- Plot the relation graph between top two most correlated data in the titanic dataset (Hint: remember *sns.relplot*?)"
   ]
  },
  {
   "cell_type": "markdown",
   "metadata": {
    "id": "htZautTMXbQA",
    "colab_type": "text"
   },
   "source": [
    "# Bar Plot\n",
    "\n",
    "A bar plot represents an estimate of central tendency for a numeric variable with the height of each rectangle and provides some indication of the uncertainty around that estimate using error bars\n"
   ]
  },
  {
   "cell_type": "code",
   "execution_count": 0,
   "metadata": {
    "id": "DXIZzW8kXalO",
    "colab_type": "code",
    "outputId": "6f3ba97b-d00a-4d62-cb52-4598d35e2ce0",
    "colab": {
     "base_uri": "https://localhost:8080/",
     "height": 308.0
    }
   },
   "outputs": [
    {
     "data": {
      "text/plain": [
       "<matplotlib.axes._subplots.AxesSubplot at 0x7f7ea9f3a278>"
      ]
     },
     "execution_count": 10,
     "metadata": {
      "tags": []
     },
     "output_type": "execute_result"
    },
    {
     "data": {
      "image/png": "[encoded data removed]",
      "text/plain": [
       "<Figure size 432x288 with 1 Axes>"
      ]
     },
     "metadata": {
      "tags": []
     },
     "output_type": "display_data"
    }
   ],
   "source": [
    "sns.barplot(x=\"day\", y=\"total_bill\", data=tips)"
   ]
  },
  {
   "cell_type": "markdown",
   "metadata": {
    "id": "07t2iX75h53K",
    "colab_type": "text"
   },
   "source": [
    "##  Excersise\n",
    "- Plot the bar plot of total bill for Males and Females across days."
   ]
  },
  {
   "cell_type": "code",
   "execution_count": 0,
   "metadata": {
    "id": "O42HuE-gh436",
    "colab_type": "code",
    "cellView": "form",
    "colab": {}
   },
   "outputs": [],
   "source": [
    "# @title Please try yourself\n"
   ]
  },
  {
   "cell_type": "markdown",
   "metadata": {
    "id": "QVsbkOsOYpss",
    "colab_type": "text"
   },
   "source": [
    "# Lets Explore a new DataSet- GapMinder\n",
    "\n",
    "It provides the average life expectancy, gdp per capita and population size for more than 100 countries.\n"
   ]
  },
  {
   "cell_type": "code",
   "execution_count": 0,
   "metadata": {
    "id": "7nbtfGbSSuzv",
    "colab_type": "code",
    "outputId": "f8993f53-8fd4-4025-f57c-5ca70af0cc9e",
    "colab": {
     "base_uri": "https://localhost:8080/",
     "height": 348.0
    }
   },
   "outputs": [
    {
     "data": {
      "text/html": [
       "<div>\n",
       "<style scoped>\n",
       "    .dataframe tbody tr th:only-of-type {\n",
       "        vertical-align: middle;\n",
       "    }\n",
       "\n",
       "    .dataframe tbody tr th {\n",
       "        vertical-align: top;\n",
       "    }\n",
       "\n",
       "    .dataframe thead th {\n",
       "        text-align: right;\n",
       "    }\n",
       "</style>\n",
       "<table border=\"1\" class=\"dataframe\">\n",
       "  <thead>\n",
       "    <tr style=\"text-align: right;\">\n",
       "      <th></th>\n",
       "      <th>country</th>\n",
       "      <th>year</th>\n",
       "      <th>pop</th>\n",
       "      <th>continent</th>\n",
       "      <th>lifeExp</th>\n",
       "      <th>gdpPercap</th>\n",
       "    </tr>\n",
       "  </thead>\n",
       "  <tbody>\n",
       "    <tr>\n",
       "      <th>0</th>\n",
       "      <td>Afghanistan</td>\n",
       "      <td>1952</td>\n",
       "      <td>8425333.0</td>\n",
       "      <td>Asia</td>\n",
       "      <td>28.801</td>\n",
       "      <td>779.445314</td>\n",
       "    </tr>\n",
       "    <tr>\n",
       "      <th>1</th>\n",
       "      <td>Afghanistan</td>\n",
       "      <td>1957</td>\n",
       "      <td>9240934.0</td>\n",
       "      <td>Asia</td>\n",
       "      <td>30.332</td>\n",
       "      <td>820.853030</td>\n",
       "    </tr>\n",
       "    <tr>\n",
       "      <th>2</th>\n",
       "      <td>Afghanistan</td>\n",
       "      <td>1962</td>\n",
       "      <td>10267083.0</td>\n",
       "      <td>Asia</td>\n",
       "      <td>31.997</td>\n",
       "      <td>853.100710</td>\n",
       "    </tr>\n",
       "    <tr>\n",
       "      <th>3</th>\n",
       "      <td>Afghanistan</td>\n",
       "      <td>1967</td>\n",
       "      <td>11537966.0</td>\n",
       "      <td>Asia</td>\n",
       "      <td>34.020</td>\n",
       "      <td>836.197138</td>\n",
       "    </tr>\n",
       "    <tr>\n",
       "      <th>4</th>\n",
       "      <td>Afghanistan</td>\n",
       "      <td>1972</td>\n",
       "      <td>13079460.0</td>\n",
       "      <td>Asia</td>\n",
       "      <td>36.088</td>\n",
       "      <td>739.981106</td>\n",
       "    </tr>\n",
       "    <tr>\n",
       "      <th>5</th>\n",
       "      <td>Afghanistan</td>\n",
       "      <td>1977</td>\n",
       "      <td>14880372.0</td>\n",
       "      <td>Asia</td>\n",
       "      <td>38.438</td>\n",
       "      <td>786.113360</td>\n",
       "    </tr>\n",
       "    <tr>\n",
       "      <th>6</th>\n",
       "      <td>Afghanistan</td>\n",
       "      <td>1982</td>\n",
       "      <td>12881816.0</td>\n",
       "      <td>Asia</td>\n",
       "      <td>39.854</td>\n",
       "      <td>978.011439</td>\n",
       "    </tr>\n",
       "    <tr>\n",
       "      <th>7</th>\n",
       "      <td>Afghanistan</td>\n",
       "      <td>1987</td>\n",
       "      <td>13867957.0</td>\n",
       "      <td>Asia</td>\n",
       "      <td>40.822</td>\n",
       "      <td>852.395945</td>\n",
       "    </tr>\n",
       "    <tr>\n",
       "      <th>8</th>\n",
       "      <td>Afghanistan</td>\n",
       "      <td>1992</td>\n",
       "      <td>16317921.0</td>\n",
       "      <td>Asia</td>\n",
       "      <td>41.674</td>\n",
       "      <td>649.341395</td>\n",
       "    </tr>\n",
       "    <tr>\n",
       "      <th>9</th>\n",
       "      <td>Afghanistan</td>\n",
       "      <td>1997</td>\n",
       "      <td>22227415.0</td>\n",
       "      <td>Asia</td>\n",
       "      <td>41.763</td>\n",
       "      <td>635.341351</td>\n",
       "    </tr>\n",
       "  </tbody>\n",
       "</table>\n",
       "</div>"
      ],
      "text/plain": [
       "       country  year         pop continent  lifeExp   gdpPercap\n",
       "0  Afghanistan  1952   8425333.0      Asia   28.801  779.445314\n",
       "1  Afghanistan  1957   9240934.0      Asia   30.332  820.853030\n",
       "2  Afghanistan  1962  10267083.0      Asia   31.997  853.100710\n",
       "3  Afghanistan  1967  11537966.0      Asia   34.020  836.197138\n",
       "4  Afghanistan  1972  13079460.0      Asia   36.088  739.981106\n",
       "5  Afghanistan  1977  14880372.0      Asia   38.438  786.113360\n",
       "6  Afghanistan  1982  12881816.0      Asia   39.854  978.011439\n",
       "7  Afghanistan  1987  13867957.0      Asia   40.822  852.395945\n",
       "8  Afghanistan  1992  16317921.0      Asia   41.674  649.341395\n",
       "9  Afghanistan  1997  22227415.0      Asia   41.763  635.341351"
      ]
     },
     "execution_count": 11,
     "metadata": {
      "tags": []
     },
     "output_type": "execute_result"
    }
   ],
   "source": [
    "data_url = 'http://bit.ly/2cLzoxH'\n",
    "gapminder = pd.read_csv(data_url)\n",
    "gapminder.head(10)\n"
   ]
  },
  {
   "cell_type": "markdown",
   "metadata": {
    "id": "2ZcfsFZ9ZXmE",
    "colab_type": "text"
   },
   "source": [
    "# Develop insights about this new dataset\n",
    "\n",
    "*   Average LifeExp of people country wise\n",
    "*   Average gdpPercap of people continent wise\n",
    "*   Plot relation between gdpPercap and LifeExp\n",
    "\n",
    "... go on and discover some interesting relations\n",
    "\n"
   ]
  },
  {
   "cell_type": "code",
   "execution_count": 0,
   "metadata": {
    "id": "bEfxZAmyhdAK",
    "colab_type": "code",
    "cellView": "form",
    "colab": {}
   },
   "outputs": [],
   "source": [
    "# @title Please try yourself\n",
    "# No solution this time. "
   ]
  },
  {
   "cell_type": "code",
   "execution_count": 0,
   "metadata": {
    "id": "MAuTgzZOZhim",
    "colab_type": "code",
    "outputId": "511d5684-8a5f-43fa-8ad9-6b6952d02a43",
    "colab": {
     "base_uri": "https://localhost:8080/",
     "height": 383.0
    }
   },
   "outputs": [
    {
     "data": {
      "text/plain": [
       "<seaborn.axisgrid.FacetGrid at 0x7f7ead9d3e10>"
      ]
     },
     "execution_count": 30,
     "metadata": {
      "tags": []
     },
     "output_type": "execute_result"
    },
    {
     "data": {
      "image/png": "[encoded data removed]",
      "text/plain": [
       "<Figure size 360x360 with 1 Axes>"
      ]
     },
     "metadata": {
      "tags": []
     },
     "output_type": "display_data"
    }
   ],
   "source": [
    "sns.relplot(x= 'year', y = 'gdpPercap', data=gapminder, kind='line')"
   ]
  },
  {
   "cell_type": "markdown",
   "metadata": {
    "id": "U_sSLbAZeiGX",
    "colab_type": "text"
   },
   "source": [
    "# Can we make the plots more informative?\n",
    "\n",
    "Hint: catplot, relplot, countplot, pairplot?"
   ]
  },
  {
   "cell_type": "code",
   "execution_count": 0,
   "metadata": {
    "id": "Ho2uwsA7cvZR",
    "colab_type": "code",
    "colab": {}
   },
   "outputs": [],
   "source": [
    "\n"
   ]
  },
  {
   "cell_type": "markdown",
   "metadata": {
    "id": "K2lIAMc3s96D",
    "colab_type": "text"
   },
   "source": [
    "# Learn Yourself\n",
    "- https://seaborn.pydata.org/api.html Explore interesting features and plot by yourself"
   ]
  },
  {
   "cell_type": "code",
   "execution_count": 0,
   "metadata": {
    "id": "NmxecyTXnAru",
    "colab_type": "code",
    "colab": {}
   },
   "outputs": [],
   "source": [
    ""
   ]
  }
 ],
 "metadata": {
  "colab": {
   "name": "Visualization-2.ipynb",
   "version": "0.3.2",
   "provenance": [],
   "collapsed_sections": []
  },
  "kernelspec": {
   "name": "python3",
   "display_name": "Python 3"
  }
 },
 "nbformat": 4,
 "nbformat_minor": 0
}
